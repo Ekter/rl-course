{
 "cells": [
  {
   "cell_type": "markdown",
   "metadata": {},
   "source": [
    "# Reinforcement Learning - Lab 4 (graded)\n",
    "### J. Martinet\n",
    "\n",
    "Implement Q-learning from scratch\n",
    "\n",
    "Duration: 90 min"
   ]
  },
  {
   "cell_type": "markdown",
   "metadata": {},
   "source": [
    "### 1) First version with a 1D grid world\n",
    "\n",
    "\n",
    "We have discussed Q-learning during the class. As you know, it is an off-policy algorithm that uses the Time Difference $\\delta_t$, which is the difference between the estimated value of $s_t$ and the better estimate $r_{t+1} + \\gamma V^\\pi (s_{t+1})$\n",
    "\n",
    "$$ \\delta_t = r_{t+1} + \\gamma V^\\pi (s_{t+1}) - V^\\pi (s_t) $$\n",
    "\n",
    "The general definition of Q-learning update rule is:\n",
    "\n",
    "$$ Q(s_t,a_t) \\leftarrow Q(s_t,a_t) + \\alpha[ r_{t+1} + \\gamma \\max_a Q(s_{t+1}, a) - Q(s_t,a_t) ] $$\n",
    "\n",
    "\n",
    "In this part, we are going to implement Q-learning in the simple setting of a 1D grid world:\n",
    "\n",
    "![1D grid world](RL4_1dgrid.png)"
   ]
  },
  {
   "cell_type": "markdown",
   "metadata": {},
   "source": [
    "Make sure you understand:\n",
    "- the size of the grid world (= number of states)\n",
    "- the size of the action space (= number of possible actions)\n",
    "- the size of the Q-table\n",
    "- the expected reward for reaching each state\n",
    "\n",
    "The first step will be to initialize an empty Q-table, a table of rewards, a move cost, and alpha and gamma parameters."
   ]
  },
  {
   "cell_type": "code",
   "execution_count": 24,
   "metadata": {},
   "outputs": [
    {
     "name": "stderr",
     "output_type": "stream",
     "text": [
      "1321.66s - pydevd: Sending message related to process being replaced timed-out after 5 seconds\n"
     ]
    },
    {
     "name": "stdout",
     "output_type": "stream",
     "text": [
      "Requirement already satisfied: numpy in /home/ekter/Documents/rl-course/.venv/lib/python3.12/site-packages (2.1.3)\n",
      "Requirement already satisfied: matplotlib in /home/ekter/Documents/rl-course/.venv/lib/python3.12/site-packages (3.9.3)\n",
      "Requirement already satisfied: contourpy>=1.0.1 in /home/ekter/Documents/rl-course/.venv/lib/python3.12/site-packages (from matplotlib) (1.3.1)\n",
      "Requirement already satisfied: cycler>=0.10 in /home/ekter/Documents/rl-course/.venv/lib/python3.12/site-packages (from matplotlib) (0.12.1)\n",
      "Requirement already satisfied: fonttools>=4.22.0 in /home/ekter/Documents/rl-course/.venv/lib/python3.12/site-packages (from matplotlib) (4.55.1)\n",
      "Requirement already satisfied: kiwisolver>=1.3.1 in /home/ekter/Documents/rl-course/.venv/lib/python3.12/site-packages (from matplotlib) (1.4.7)\n",
      "Requirement already satisfied: packaging>=20.0 in /home/ekter/Documents/rl-course/.venv/lib/python3.12/site-packages (from matplotlib) (24.2)\n",
      "Requirement already satisfied: pillow>=8 in /home/ekter/Documents/rl-course/.venv/lib/python3.12/site-packages (from matplotlib) (11.0.0)\n",
      "Requirement already satisfied: pyparsing>=2.3.1 in /home/ekter/Documents/rl-course/.venv/lib/python3.12/site-packages (from matplotlib) (3.2.0)\n",
      "Requirement already satisfied: python-dateutil>=2.7 in /home/ekter/Documents/rl-course/.venv/lib/python3.12/site-packages (from matplotlib) (2.9.0.post0)\n",
      "Requirement already satisfied: six>=1.5 in /home/ekter/Documents/rl-course/.venv/lib/python3.12/site-packages (from python-dateutil>=2.7->matplotlib) (1.16.0)\n",
      "Note: you may need to restart the kernel to use updated packages.\n"
     ]
    }
   ],
   "source": [
    "%pip install numpy matplotlib\n",
    "import numpy as np\n",
    "import random\n",
    "import matplotlib.pyplot as plt\n",
    "\n",
    "# we have 2 actions : move left and move right\n",
    "nb_action = 2\n",
    "nb_state = 6\n",
    "\n",
    "# we create a matrix 6*2 to represent the value of each move at a given state\n",
    "QTable = np.zeros((nb_state,nb_action))\n",
    "\n",
    "# the tab with the representation of the 6 states (-1 for the bad end, 1 for the good end, and 0 for other states)\n",
    "reward = [-1,0,0,0,0,1 ]\n",
    "\n",
    "# cost of one move\n",
    "cost = 0.01\n",
    "\n",
    "# learning rate - should not be too high, e.g. between .5 and .9\n",
    "alpha = 0.9\n",
    "\n",
    "# discount factor that shows how much you care about future (remember 0 for myopic)\n",
    "gamma = 0.5\n",
    "\n",
    "# exploration / exploitation trade-off\n",
    "epsilon = 0.1"
   ]
  },
  {
   "cell_type": "markdown",
   "metadata": {},
   "source": [
    "Now comes the interesting part. You need to write the main Q-learning loop.\n",
    "\n",
    "The first version will simply iterate:\n",
    "- choose an action (by looking up in the Q-table! Choose the most interesting move)\n",
    "- move\n",
    "- update the Q-table\n",
    "\n",
    "When you get this version, you can make it more complete to add the exploration/exploitation with the $\\epsilon$-greedy version, by initializing an $\\epsilon = 1$ that you decrease by e.g. 0.01 in each iteration.\n",
    "\n",
    "In your main loop, start by drawing a random number. If it is lower that $\\epsilon$, then EXPLORE (= take a random move), otherwise EXPLOIT (= choose the best move)"
   ]
  },
  {
   "cell_type": "code",
   "execution_count": 27,
   "metadata": {},
   "outputs": [
    {
     "name": "stdout",
     "output_type": "stream",
     "text": [
      "[[ 0.      0.    ]\n",
      " [-1.      0.125 ]\n",
      " [ 0.0625  0.25  ]\n",
      " [ 0.125   0.5   ]\n",
      " [ 0.25    1.    ]\n",
      " [ 0.      0.    ]]\n"
     ]
    },
    {
     "data": {
      "image/png": "[encoded data removed]",
      "text/plain": [
       "<Figure size 640x480 with 1 Axes>"
      ]
     },
     "metadata": {},
     "output_type": "display_data"
    },
    {
     "data": {
      "image/png": "[encoded data removed]",
      "text/plain": [
       "<Figure size 640x480 with 1 Axes>"
      ]
     },
     "metadata": {},
     "output_type": "display_data"
    }
   ],
   "source": [
    "# we have 2 actions : move left and move right\n",
    "nb_action = 2\n",
    "nb_state = 6\n",
    "\n",
    "# we create a matrix 6*2 to represent the value of each move at a given state\n",
    "QTable = np.zeros((nb_state,nb_action))\n",
    "\n",
    "# the tab with the representation of the 6 states (-1 for the bad end, 1 for the good end, and 0 for other states)\n",
    "reward = [-1,0,0,0,0,1 ]\n",
    "\n",
    "\n",
    "for i in range(1000):\n",
    "    state = 2\n",
    "    while state not in (0, 5):\n",
    "        actions = []\n",
    "        if random.random() > epsilon:\n",
    "            actions = [0, 1]        # random on full possible actions, explore\n",
    "        else:\n",
    "            for index, rew in enumerate(QTable[state]):\n",
    "                if rew == np.max(QTable[state]):\n",
    "                    actions.append(index) # exploit max value\n",
    "        action = random.choice(actions)\n",
    "\n",
    "        # action = np.argmax(QTable[state])\n",
    "        next_state = state + 1 if action == 1 else state - 1\n",
    "        QTable[state, action] = (1 - alpha) * QTable[state, action] + alpha * (reward[next_state] + gamma * np.max(QTable[next_state]))\n",
    "        state = next_state\n",
    "\n",
    "\n",
    "print(QTable)\n",
    "\n",
    "# map of the QTable by state/action:\n",
    "\n",
    "fig, ax = plt.subplots()\n",
    "im = ax.imshow(QTable.T)\n",
    "plt.title(\"left/right value by state\")\n",
    "\n",
    "plt.show()\n",
    "\n",
    "# mean value at each state:\n",
    "mean = np.mean(QTable, axis=1)\n",
    "im = plt.imshow([mean])\n",
    "plt.title(\"state value (mean)\")\n",
    "\n",
    "plt.show()\n"
   ]
  },
  {
   "cell_type": "markdown",
   "metadata": {},
   "source": [
    "![1D grid world](RL4_1dgrid.png)\n",
    "\n",
    "Yellow is positive reward, purple is negative reward."
   ]
  },
  {
   "cell_type": "markdown",
   "metadata": {},
   "source": [
    "### 2) Second version with a 2D grid world\n",
    "\n",
    "Same exercise, in the following 2D grid:\n",
    "\n",
    "![2D grid world](RL4_2dgrid.png)"
   ]
  },
  {
   "cell_type": "code",
   "execution_count": 29,
   "metadata": {},
   "outputs": [
    {
     "ename": "IndexError",
     "evalue": "index 3 is out of bounds for axis 0 with size 3",
     "output_type": "error",
     "traceback": [
      "\u001b[0;31m---------------------------------------------------------------------------\u001b[0m",
      "\u001b[0;31mIndexError\u001b[0m                                Traceback (most recent call last)",
      "Cell \u001b[0;32mIn[29], line 44\u001b[0m\n\u001b[1;32m     41\u001b[0m action \u001b[38;5;241m=\u001b[39m random\u001b[38;5;241m.\u001b[39mchoice(actions)\n\u001b[1;32m     43\u001b[0m next_state \u001b[38;5;241m=\u001b[39m state \u001b[38;5;241m+\u001b[39m np\u001b[38;5;241m.\u001b[39marray([\u001b[38;5;241m1\u001b[39m, \u001b[38;5;241m0\u001b[39m]) \u001b[38;5;28;01mif\u001b[39;00m action \u001b[38;5;241m==\u001b[39m \u001b[38;5;241m0\u001b[39m \u001b[38;5;28;01melse\u001b[39;00m state \u001b[38;5;241m+\u001b[39m np\u001b[38;5;241m.\u001b[39marray([\u001b[38;5;241m-\u001b[39m\u001b[38;5;241m1\u001b[39m, \u001b[38;5;241m0\u001b[39m]) \u001b[38;5;28;01mif\u001b[39;00m action \u001b[38;5;241m==\u001b[39m \u001b[38;5;241m1\u001b[39m \u001b[38;5;28;01melse\u001b[39;00m state \u001b[38;5;241m+\u001b[39m np\u001b[38;5;241m.\u001b[39marray([\u001b[38;5;241m0\u001b[39m, \u001b[38;5;241m1\u001b[39m]) \u001b[38;5;28;01mif\u001b[39;00m action \u001b[38;5;241m==\u001b[39m \u001b[38;5;241m2\u001b[39m \u001b[38;5;28;01melse\u001b[39;00m state \u001b[38;5;241m+\u001b[39m np\u001b[38;5;241m.\u001b[39marray([\u001b[38;5;241m0\u001b[39m, \u001b[38;5;241m-\u001b[39m\u001b[38;5;241m1\u001b[39m])\n\u001b[0;32m---> 44\u001b[0m \u001b[38;5;28;01mif\u001b[39;00m \u001b[43mallowed\u001b[49m\u001b[43m[\u001b[49m\u001b[43mnext_state\u001b[49m\u001b[43m[\u001b[49m\u001b[38;5;241;43m0\u001b[39;49m\u001b[43m]\u001b[49m\u001b[43m,\u001b[49m\u001b[43m \u001b[49m\u001b[43mnext_state\u001b[49m\u001b[43m[\u001b[49m\u001b[38;5;241;43m1\u001b[39;49m\u001b[43m]\u001b[49m\u001b[43m]\u001b[49m \u001b[38;5;241m==\u001b[39m \u001b[38;5;241m1\u001b[39m:\n\u001b[1;32m     45\u001b[0m     QTable[state[\u001b[38;5;241m0\u001b[39m], state[\u001b[38;5;241m1\u001b[39m], action] \u001b[38;5;241m=\u001b[39m (\u001b[38;5;241m1\u001b[39m \u001b[38;5;241m-\u001b[39m alpha) \u001b[38;5;241m*\u001b[39m QTable[state[\u001b[38;5;241m0\u001b[39m], state[\u001b[38;5;241m1\u001b[39m], action] \u001b[38;5;241m+\u001b[39m alpha \u001b[38;5;241m*\u001b[39m (reward[next_state[\u001b[38;5;241m0\u001b[39m], next_state[\u001b[38;5;241m1\u001b[39m]] \u001b[38;5;241m+\u001b[39m gamma \u001b[38;5;241m*\u001b[39m np\u001b[38;5;241m.\u001b[39mmax(QTable[next_state[\u001b[38;5;241m0\u001b[39m], next_state[\u001b[38;5;241m1\u001b[39m]]))\n\u001b[1;32m     46\u001b[0m     state \u001b[38;5;241m=\u001b[39m next_state\n",
      "\u001b[0;31mIndexError\u001b[0m: index 3 is out of bounds for axis 0 with size 3"
     ]
    }
   ],
   "source": [
    "# we have 4 actions (every direction) although most of the time we will have only 2 actions available\n",
    "nb_action = 4\n",
    "\n",
    "# state will be a 2d array, also counting the impossible states to make it easier for the representation\n",
    "#size is 4*3 so 12 states\n",
    "nb_state_x = 3\n",
    "nb_state_y = 4\n",
    "nb_state = nb_state_x * nb_state_y\n",
    "\n",
    "\n",
    "# we create a big matrix to represent the value of each move at a given state\n",
    "QTable = np.zeros((nb_state_x,nb_state_y,nb_action))\n",
    "\n",
    "# the tab with the representation of the states (-1 for the bad end, 1 for the good end, and 0 for other states)\n",
    "reward = np.array([[0,0,0,1],[0,0,0,-1],[0,0,0,0]])\n",
    "allowed = np.array([[1,1,1,1],[1,0,1,1],[1,1,1,1]])\n",
    "\n",
    "\n",
    "# cost of one move\n",
    "cost = 0.01\n",
    "\n",
    "# learning rate - should not be too high, e.g. between .5 and .9\n",
    "alpha = 0.9\n",
    "\n",
    "# discount factor that shows how much you care about future (remember 0 for myopic)\n",
    "gamma = 0.5\n",
    "\n",
    "# exploration / exploitation trade-off\n",
    "epsilon = 0.1\n",
    "\n",
    "for i in range(1000):\n",
    "    state = np.array([2,0])\n",
    "    while reward[state[0], state[1]] == 0:\n",
    "        actions = []\n",
    "        if random.random() > epsilon:\n",
    "            actions = [0, 1, 2, 3]        # random on full possible actions, explore\n",
    "        else:\n",
    "            for index, rew in enumerate(QTable[state[0], state[1]]):\n",
    "                if rew == np.max(QTable[state[0], state[1]]):\n",
    "                    actions.append(index) # exploit max value\n",
    "        action = random.choice(actions)\n",
    "\n",
    "        next_state = state + np.array([1, 0]) if action == 0 else state + np.array([-1, 0]) if action == 1 else state + np.array([0, 1]) if action == 2 else state + np.array([0, -1])\n",
    "        if next_state[0] < 0:\n",
    "        if allowed[next_state[0], next_state[1]] == 1:\n",
    "            QTable[state[0], state[1], action] = (1 - alpha) * QTable[state[0], state[1], action] + alpha * (reward[next_state[0], next_state[1]] + gamma * np.max(QTable[next_state[0], next_state[1]]))\n",
    "            state = next_state"
   ]
  },
  {
   "cell_type": "markdown",
   "metadata": {},
   "source": [
    "### 3) Optional third part (with bonus): plot the evolution of the total reward\n",
    "\n",
    "Make a plot of the evolution of the total reward after each epidode during the simulation / learning with different values of $\\gamma$, $\\alpha$, and $\\epsilon$."
   ]
  },
  {
   "cell_type": "code",
   "execution_count": null,
   "metadata": {},
   "outputs": [],
   "source": [
    "# your code here\n",
    "\n"
   ]
  }
 ],
 "metadata": {
  "kernelspec": {
   "display_name": ".venv",
   "language": "python",
   "name": "python3"
  },
  "language_info": {
   "codemirror_mode": {
    "name": "ipython",
    "version": 3
   },
   "file_extension": ".py",
   "mimetype": "text/x-python",
   "name": "python",
   "nbconvert_exporter": "python",
   "pygments_lexer": "ipython3",
   "version": "3.12.3"
  }
 },
 "nbformat": 4,
 "nbformat_minor": 4
}
