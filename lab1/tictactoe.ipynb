{
 "cells": [
  {
   "cell_type": "code",
   "execution_count": 10,
   "metadata": {},
   "outputs": [
    {
     "name": "stdout",
     "output_type": "stream",
     "text": [
      "The autoreload extension is already loaded. To reload it, use:\n",
      "  %reload_ext autoreload\n"
     ]
    }
   ],
   "source": [
    "%load_ext autoreload\n",
    "%autoreload 2"
   ]
  },
  {
   "cell_type": "code",
   "execution_count": 11,
   "metadata": {},
   "outputs": [],
   "source": [
    "from tictac_model import TicTacModel\n",
    "\n",
    "import numpy as np\n",
    "\n",
    "import random\n",
    "\n",
    "import gymnasium"
   ]
  },
  {
   "cell_type": "code",
   "execution_count": 12,
   "metadata": {},
   "outputs": [
    {
     "name": "stdout",
     "output_type": "stream",
     "text": [
      "1 won\n"
     ]
    }
   ],
   "source": [
    "game = TicTacModel()\n",
    "\n",
    "game.play(0,0)\n",
    "game.play(1,1)\n",
    "game.play(0,1)\n",
    "game.play(2,2)\n",
    "game.play(0,2)\n",
    "if game.check_winner():\n",
    "    print(f\"{game.get_winner()} won\")\n",
    "\n",
    "\n"
   ]
  },
  {
   "cell_type": "code",
   "execution_count": 13,
   "metadata": {},
   "outputs": [
    {
     "name": "stdout",
     "output_type": "stream",
     "text": [
      "1 won\n"
     ]
    }
   ],
   "source": [
    "game2 = TicTacModel()\n",
    "\n",
    "while game2.turns < 9:\n",
    "    game2.play(random.randint(0,2), random.randint(0,2))\n",
    "    if game2.check_winner():\n",
    "        print(f\"{game2.get_winner()} won\")\n",
    "        break"
   ]
  },
  {
   "cell_type": "code",
   "execution_count": 21,
   "metadata": {},
   "outputs": [
    {
     "name": "stdout",
     "output_type": "stream",
     "text": [
      "[[ 1  1  0]\n",
      " [ 0 -1  0]\n",
      " [ 0  0  0]]\n",
      "-1\n",
      "False\n",
      "1\n",
      "934\n"
     ]
    }
   ],
   "source": [
    "# import copy\n",
    "\n",
    "game3 = TicTacModel()\n",
    "\n",
    "game3.play(0,0)\n",
    "game3.play(1,1)\n",
    "game3.play(0,1)\n",
    "# game3.play(1,2)\n",
    "\n",
    "\n",
    "print(game3)\n",
    "print(game3.tree())\n",
    "\n",
    "print(game3.trees)\n"
   ]
  },
  {
   "cell_type": "code",
   "execution_count": 19,
   "metadata": {},
   "outputs": [
    {
     "data": {
      "text/plain": [
       "120"
      ]
     },
     "execution_count": 19,
     "metadata": {},
     "output_type": "execute_result"
    }
   ],
   "source": [
    "5*4*3*2"
   ]
  },
  {
   "cell_type": "code",
   "execution_count": null,
   "metadata": {},
   "outputs": [],
   "source": []
  }
 ],
 "metadata": {
  "kernelspec": {
   "display_name": ".venv",
   "language": "python",
   "name": "python3"
  },
  "language_info": {
   "codemirror_mode": {
    "name": "ipython",
    "version": 3
   },
   "file_extension": ".py",
   "mimetype": "text/x-python",
   "name": "python",
   "nbconvert_exporter": "python",
   "pygments_lexer": "ipython3",
   "version": "3.12.3"
  }
 },
 "nbformat": 4,
 "nbformat_minor": 2
}
